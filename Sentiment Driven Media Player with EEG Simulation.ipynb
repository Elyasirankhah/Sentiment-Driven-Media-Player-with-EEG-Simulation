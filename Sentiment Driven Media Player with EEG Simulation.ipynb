{
 "cells": [
  {
   "cell_type": "code",
   "execution_count": 99,
   "id": "3142dc63",
   "metadata": {},
   "outputs": [],
   "source": [
    "import numpy as np\n",
    "import tkinter as tk\n",
    "from tkinter import messagebox, Entry, Button, Label\n",
    "import matplotlib.pyplot as plt\n",
    "from matplotlib.backends.backend_tkagg import FigureCanvasTkAgg\n",
    "import joblib\n",
    "import tensorflow as tf\n",
    "import vlc\n",
    "import tkinter.font as font"
   ]
  },
  {
   "cell_type": "code",
   "execution_count": 100,
   "id": "de3e1f96",
   "metadata": {},
   "outputs": [],
   "source": [
    "tfidf = joblib.load('tfidf_vectorizer.pkl')\n",
    "sentiment_model = joblib.load('sentiment_model.pkl')"
   ]
  },
  {
   "cell_type": "code",
   "execution_count": 101,
   "id": "b1ac35b9",
   "metadata": {},
   "outputs": [],
   "source": [
    "user_disliked_video = False"
   ]
  },
  {
   "cell_type": "code",
   "execution_count": 102,
   "id": "2677a8ed",
   "metadata": {},
   "outputs": [],
   "source": [
    "def preprocess_text(text):\n",
    "    return tfidf.transform([text])"
   ]
  },
  {
   "cell_type": "code",
   "execution_count": 103,
   "id": "bed02979",
   "metadata": {},
   "outputs": [],
   "source": [
    "instance = vlc.Instance()\n",
    "player = instance.media_player_new()\n",
    "\n",
    "videos = ['C:/Users/elyas/Desktop/New folder/Elyas.mp4']\n",
    "current_video_index = 0  "
   ]
  },
  {
   "cell_type": "code",
   "execution_count": 104,
   "id": "3521e41c",
   "metadata": {},
   "outputs": [],
   "source": [
    "def get_eeg_values_based_on_sentiment(sentiment_value):\n",
    "    if sentiment_value == 1:  \n",
    "        return {'Delta': [20, 30, 40], 'Theta': [10, 20, 15], 'Alpha': [40, 50, 60], 'Beta': [15, 20, 18], 'Gamma': [5, 7, 6]}\n",
    "    elif sentiment_value == 0:  \n",
    "        return {'Delta': [50, 60, 55], 'Theta': [30, 40, 35], 'Alpha': [30, 35, 32], 'Beta': [10, 15, 12], 'Gamma': [3, 4, 3.5]}\n",
    "    else:  \n",
    "        return {'Delta': [100, 120, 110], 'Theta': [60, 70, 65], 'Alpha': [20, 25, 22], 'Beta': [5, 8, 6], 'Gamma': [1, 2, 1.5]}\n"
   ]
  },
  {
   "cell_type": "code",
   "execution_count": 105,
   "id": "91bc1215",
   "metadata": {},
   "outputs": [],
   "source": [
    "def plot_eeg_waves(eeg_data, sentiment):\n",
    "    figure, ax = plt.subplots()\n",
    "    colors = {'Delta': 'blue', 'Theta': 'orange', 'Alpha': 'green', 'Beta': 'red', 'Gamma': 'purple'}\n",
    "\n",
    "    for band, values in eeg_data.items():\n",
    "        ax.plot(values, label=band, color=colors[band], marker='o')  \n",
    "\n",
    "    ax.set_title(f'Simulated EEG plot ({sentiment} Sentiment)')\n",
    "    ax.set_xlabel('Time Points')\n",
    "    ax.set_ylabel('EEG Amplitude (µV)') \n",
    "    ax.legend()\n",
    "    ax.grid(True)\n",
    "\n",
    "    ax.set_ylim([0, 200])  \n",
    "\n",
    "    return figure"
   ]
  },
  {
   "cell_type": "code",
   "execution_count": 106,
   "id": "aafa02ce",
   "metadata": {},
   "outputs": [],
   "source": [
    "def set_comment_title(text):\n",
    "    comment_title.config(text=text)"
   ]
  },
  {
   "cell_type": "code",
   "execution_count": 107,
   "id": "e723ac0a",
   "metadata": {},
   "outputs": [],
   "source": [
    "def play_next_video():\n",
    "    global current_video_index\n",
    "    if player.is_playing():\n",
    "        player.stop()  \n",
    "    current_video_index += 1  \n",
    "    if current_video_index >= len(videos):\n",
    "        current_video_index = 0  \n",
    "    play_video(videos[current_video_index])"
   ]
  },
  {
   "cell_type": "code",
   "execution_count": 108,
   "id": "331ea337",
   "metadata": {},
   "outputs": [],
   "source": [
    "def play_video(video_path):\n",
    "    media = instance.media_new(video_path)\n",
    "    player.set_media(media)\n",
    "    video_handle = video_label.winfo_id()\n",
    "    player.set_hwnd(video_handle)\n",
    "    player.play()"
   ]
  },
  {
   "cell_type": "code",
   "execution_count": 109,
   "id": "98698dab",
   "metadata": {},
   "outputs": [],
   "source": [
    "def like_video():\n",
    "    set_comment_title(\"Please Leave a Comment\")\n",
    "    play_next_video()"
   ]
  },
  {
   "cell_type": "code",
   "execution_count": 110,
   "id": "02dc3606",
   "metadata": {},
   "outputs": [],
   "source": [
    "def skip_video():\n",
    "    global user_disliked_video\n",
    "    set_comment_title(\"Please Leave a Comment\")\n",
    "    play_next_video()\n",
    "    user_disliked_video = True"
   ]
  },
  {
   "cell_type": "code",
   "execution_count": 111,
   "id": "4c77150b",
   "metadata": {},
   "outputs": [],
   "source": [
    "def simulate_negative_sentiment():\n",
    "    negative_sentiment = -1  \n",
    "\n",
    "   \n",
    "    eeg_data = get_eeg_values_based_on_sentiment(negative_sentiment)\n",
    "\n",
    "    for widget in plot_frame.winfo_children():\n",
    "        widget.destroy()\n",
    "\n",
    "    figure = plot_eeg_waves(eeg_data, 'Negative')\n",
    "    canvas = FigureCanvasTkAgg(figure, master=plot_frame)\n",
    "    canvas.draw()\n",
    "    canvas.get_tk_widget().pack()\n",
    "\n",
    "    result_label.config(text=\"Sentiment Analysis: Negative\")"
   ]
  },
  {
   "cell_type": "code",
   "execution_count": 112,
   "id": "547df816",
   "metadata": {},
   "outputs": [],
   "source": [
    "def stop_video():\n",
    "    if player.is_playing():\n",
    "        player.stop()\n",
    "    stop_button.config(text=\"Finish\")"
   ]
  },
  {
   "cell_type": "code",
   "execution_count": 113,
   "id": "5349f207",
   "metadata": {},
   "outputs": [],
   "source": [
    "def analyze_comment():\n",
    "    global user_disliked_video\n",
    "    user_comment = comment_entry.get()  \n",
    "    try:\n",
    "        if user_disliked_video:\n",
    "            sentiment_prediction = -1\n",
    "            user_disliked_video = False  \n",
    "        else:\n",
    "            preprocessed_text = preprocess_text(user_comment)  \n",
    "            sentiment_prediction = sentiment_model.predict(preprocessed_text)[0]\n",
    "\n",
    "        eeg_data = get_eeg_values_based_on_sentiment(sentiment_prediction)\n",
    "\n",
    "        for widget in plot_frame.winfo_children():\n",
    "            widget.destroy()\n",
    "\n",
    "        if sentiment_prediction > 0:\n",
    "            sentiment = 'Positive'\n",
    "        elif sentiment_prediction == 0:\n",
    "            sentiment = 'Neutral'\n",
    "        else:\n",
    "            sentiment = 'Negative'\n",
    "\n",
    "        figure = plot_eeg_waves(eeg_data, sentiment)\n",
    "        canvas = FigureCanvasTkAgg(figure, master=plot_frame)\n",
    "        canvas.draw()\n",
    "        canvas.get_tk_widget().pack()\n",
    "\n",
    "        result_label.config(text=f\"Sentiment Analysis: {sentiment}\")\n",
    "    except Exception as e:\n",
    "        messagebox.showerror(\"Error\", str(e))"
   ]
  },
  {
   "cell_type": "code",
   "execution_count": 114,
   "id": "663966f0",
   "metadata": {},
   "outputs": [],
   "source": [
    "root = tk.Tk()\n",
    "root.title(\"User Interface\")\n",
    "result_label = Label(root, text=\"\", font=(\"Helvetica\", 14))\n",
    "result_label.pack()"
   ]
  },
  {
   "cell_type": "code",
   "execution_count": 115,
   "id": "9558a82a",
   "metadata": {},
   "outputs": [],
   "source": [
    "plot_frame = tk.Frame(root)\n",
    "plot_frame.pack(fill=tk.BOTH, expand=True)\n",
    "\n",
    "video_frame = tk.Frame(root, bg=\"black\")\n",
    "video_frame.pack(fill=tk.BOTH, expand=True)\n",
    "\n",
    "video_label = tk.Label(video_frame, width=20, height=20)\n",
    "video_label.pack(fill=tk.BOTH, expand=True)\n",
    "\n",
    "comment_font = font.Font(size=50)  \n",
    "comment_title = Label(root, text=\"\", font=(\"Helvetica\", 24), pady=70)\n",
    "comment_title.pack()\n",
    "\n",
    "comment_entry = Entry(root, font=comment_font)\n",
    "comment_entry.pack()\n",
    "\n",
    "analyze_button = Button(root, text=\"Analyze Comment\", command=analyze_comment)\n",
    "analyze_button.pack()\n",
    "\n",
    "like_button = Button(video_frame, text=\"Like Video\", command=like_video, bg=\"white\", fg=\"black\")\n",
    "like_button.pack(side=tk.LEFT, padx=5, pady=5)\n",
    "\n",
    "skip_button = Button(video_frame, text=\"Dislike Video\", command=skip_video, bg=\"white\", fg=\"black\")\n",
    "skip_button.pack(side=tk.LEFT, padx=5, pady=5)\n",
    "\n",
    "stop_button = Button(video_frame, text=\"Stop Video\", command=stop_video, bg=\"white\", fg=\"black\")\n",
    "stop_button.pack(side=tk.LEFT, padx=5, pady=5)"
   ]
  },
  {
   "cell_type": "code",
   "execution_count": 116,
   "id": "4c4f124b",
   "metadata": {
    "scrolled": true
   },
   "outputs": [],
   "source": [
    "play_video(videos[current_video_index])\n",
    "root.mainloop()"
   ]
  },
  {
   "cell_type": "code",
   "execution_count": null,
   "id": "88996ec3",
   "metadata": {},
   "outputs": [],
   "source": []
  }
 ],
 "metadata": {
  "kernelspec": {
   "display_name": "Python 3 (ipykernel)",
   "language": "python",
   "name": "python3"
  },
  "language_info": {
   "codemirror_mode": {
    "name": "ipython",
    "version": 3
   },
   "file_extension": ".py",
   "mimetype": "text/x-python",
   "name": "python",
   "nbconvert_exporter": "python",
   "pygments_lexer": "ipython3",
   "version": "3.11.5"
  }
 },
 "nbformat": 4,
 "nbformat_minor": 5
}
