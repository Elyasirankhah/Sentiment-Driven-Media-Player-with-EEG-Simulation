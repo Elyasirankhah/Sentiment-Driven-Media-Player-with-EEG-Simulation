{
 "cells": [
  {
   "cell_type": "code",
   "execution_count": 16,
   "id": "9075055c",
   "metadata": {},
   "outputs": [],
   "source": [
    "import numpy as np\n",
    "import pandas as pd\n",
    "import matplotlib.pyplot as plt\n",
    "import seaborn as sns\n",
    "import plotly.express as px\n",
    "from scipy import signal\n",
    "from sklearn.model_selection import train_test_split\n",
    "import tensorflow as tf\n",
    "from sklearn.metrics import confusion_matrix, classification_report\n",
    "import random"
   ]
  },
  {
   "cell_type": "code",
   "execution_count": null,
   "id": "77df7b1e",
   "metadata": {},
   "outputs": [],
   "source": [
    "print(\"All modules imported successfully.\")"
   ]
  },
  {
   "cell_type": "code",
   "execution_count": 17,
   "id": "c620c032",
   "metadata": {},
   "outputs": [],
   "source": [
    "data = pd.read_csv('emotions.csv')"
   ]
  },
  {
   "cell_type": "code",
   "execution_count": 18,
   "id": "1500b3c6",
   "metadata": {},
   "outputs": [],
   "source": [
    "label_mapping = {'NEGATIVE': 0, 'NEUTRAL': 1, 'POSITIVE': 2}\n",
    "data['label'] = data['label'].map(label_mapping)"
   ]
  },
  {
   "cell_type": "code",
   "execution_count": 19,
   "id": "297b34a0",
   "metadata": {},
   "outputs": [],
   "source": [
    "emotion_counts = data['label'].value_counts()\n",
    "\n",
    "# Define emotional labels\n",
    "emotional_labels = {0: 'NEGATIVE', 1: 'NEUTRAL', 2: 'POSITIVE'}\n",
    "\n",
    "# Map numerical labels to emotional labels\n",
    "emotion_labels = [emotional_labels[label] for label in emotion_counts.index]"
   ]
  },
  {
   "cell_type": "code",
   "execution_count": 20,
   "id": "73661c16",
   "metadata": {},
   "outputs": [],
   "source": [
    "emotions = data['label'].unique()"
   ]
  },
  {
   "cell_type": "code",
   "execution_count": 21,
   "id": "de60d69f",
   "metadata": {},
   "outputs": [],
   "source": [
    "from scipy.stats import ttest_ind\n",
    "\n",
    "# Define colors for significant and non-significant features\n",
    "significant_color = 'green'\n",
    "non_significant_color = 'red'\n",
    "\n",
    "# Create a dictionary to store the number of significant and non-significant features for each emotion\n",
    "num_features = {emotion: {'significant': 0, 'non-significant': 0} for emotion in emotions}\n",
    "\n",
    "# Perform t-tests and count significant features for each emotion\n",
    "for emotion in emotions:\n",
    "    subset = data[data['label'] == emotion]\n",
    "    for feature in data.columns[:-1]:\n",
    "        _, p_value = ttest_ind(subset[feature], data[feature])\n",
    "        if p_value < 0.05:\n",
    "            num_features[emotion]['significant'] += 1\n",
    "        else:\n",
    "            num_features[emotion]['non-significant'] += 1\n",
    "\n",
    "# Extract emotion labels and corresponding feature counts\n",
    "emotion_labels = list(num_features.keys())\n",
    "significant_counts = [num_features[emotion]['significant'] for emotion in emotion_labels]\n",
    "non_significant_counts = [num_features[emotion]['non-significant'] for emotion in emotion_labels]"
   ]
  },
  {
   "cell_type": "code",
   "execution_count": 22,
   "id": "7e62baa0",
   "metadata": {},
   "outputs": [],
   "source": [
    "from sklearn.preprocessing import StandardScaler\n",
    "scaler = StandardScaler()\n",
    "data.iloc[:, :-1] = scaler.fit_transform(data.iloc[:, :-1])"
   ]
  },
  {
   "cell_type": "code",
   "execution_count": 23,
   "id": "4f516261",
   "metadata": {},
   "outputs": [],
   "source": [
    "X = data.drop('label', axis=1)\n",
    "y = data['label']\n",
    "X_train, X_test, y_train, y_test = train_test_split(X, y, test_size=0.3, random_state=123)"
   ]
  },
  {
   "cell_type": "code",
   "execution_count": 24,
   "id": "47da5b75",
   "metadata": {},
   "outputs": [],
   "source": [
    "model = tf.keras.Sequential([\n",
    "    tf.keras.layers.Input(shape=(X_train.shape[1],)),\n",
    "    tf.keras.layers.Dense(256, activation='relu'),\n",
    "    tf.keras.layers.Dropout(0.5),\n",
    "    tf.keras.layers.Dense(128, activation='relu'),\n",
    "    tf.keras.layers.Dropout(0.5),\n",
    "    tf.keras.layers.Dense(3, activation='softmax')\n",
    "])"
   ]
  },
  {
   "cell_type": "code",
   "execution_count": 25,
   "id": "29c0b002",
   "metadata": {},
   "outputs": [],
   "source": [
    "model.compile(optimizer='adam',\n",
    "              loss='sparse_categorical_crossentropy',\n",
    "              metrics=['accuracy'])"
   ]
  },
  {
   "cell_type": "code",
   "execution_count": 26,
   "id": "5022a273",
   "metadata": {},
   "outputs": [
    {
     "name": "stdout",
     "output_type": "stream",
     "text": [
      "Epoch 1/70\n",
      "38/38 - 2s - loss: 1.0576 - accuracy: 0.7443 - val_loss: 0.5830 - val_accuracy: 0.8997 - 2s/epoch - 40ms/step\n",
      "Epoch 2/70\n",
      "38/38 - 0s - loss: 0.9038 - accuracy: 0.8491 - val_loss: 0.2998 - val_accuracy: 0.9264 - 354ms/epoch - 9ms/step\n",
      "Epoch 3/70\n",
      "38/38 - 0s - loss: 0.7421 - accuracy: 0.8600 - val_loss: 0.6670 - val_accuracy: 0.9097 - 351ms/epoch - 9ms/step\n",
      "Epoch 4/70\n",
      "38/38 - 0s - loss: 0.5458 - accuracy: 0.8885 - val_loss: 0.3688 - val_accuracy: 0.9030 - 340ms/epoch - 9ms/step\n",
      "Epoch 5/70\n",
      "38/38 - 0s - loss: 0.4198 - accuracy: 0.8977 - val_loss: 0.4211 - val_accuracy: 0.9231 - 333ms/epoch - 9ms/step\n",
      "Epoch 6/70\n",
      "38/38 - 0s - loss: 0.3982 - accuracy: 0.9028 - val_loss: 0.3264 - val_accuracy: 0.9097 - 364ms/epoch - 10ms/step\n",
      "Epoch 7/70\n",
      "38/38 - 0s - loss: 0.2521 - accuracy: 0.9288 - val_loss: 0.3178 - val_accuracy: 0.9264 - 351ms/epoch - 9ms/step\n",
      "Epoch 8/70\n",
      "38/38 - 0s - loss: 0.2577 - accuracy: 0.9338 - val_loss: 0.2199 - val_accuracy: 0.9398 - 348ms/epoch - 9ms/step\n",
      "Epoch 9/70\n",
      "38/38 - 0s - loss: 0.2085 - accuracy: 0.9396 - val_loss: 0.2318 - val_accuracy: 0.9465 - 356ms/epoch - 9ms/step\n",
      "Epoch 10/70\n",
      "38/38 - 0s - loss: 0.2295 - accuracy: 0.9338 - val_loss: 0.1885 - val_accuracy: 0.9465 - 327ms/epoch - 9ms/step\n",
      "Epoch 11/70\n",
      "38/38 - 0s - loss: 0.1922 - accuracy: 0.9447 - val_loss: 0.2595 - val_accuracy: 0.9231 - 322ms/epoch - 8ms/step\n",
      "Epoch 12/70\n",
      "38/38 - 0s - loss: 0.1653 - accuracy: 0.9480 - val_loss: 0.2860 - val_accuracy: 0.9331 - 349ms/epoch - 9ms/step\n",
      "Epoch 13/70\n",
      "38/38 - 0s - loss: 0.1841 - accuracy: 0.9464 - val_loss: 0.3516 - val_accuracy: 0.9264 - 328ms/epoch - 9ms/step\n",
      "Epoch 14/70\n",
      "38/38 - 0s - loss: 0.1215 - accuracy: 0.9497 - val_loss: 0.3028 - val_accuracy: 0.9365 - 350ms/epoch - 9ms/step\n",
      "Epoch 15/70\n",
      "38/38 - 0s - loss: 0.1196 - accuracy: 0.9598 - val_loss: 0.2767 - val_accuracy: 0.9532 - 353ms/epoch - 9ms/step\n",
      "Epoch 16/70\n",
      "38/38 - 0s - loss: 0.0945 - accuracy: 0.9631 - val_loss: 0.2830 - val_accuracy: 0.9532 - 338ms/epoch - 9ms/step\n",
      "Epoch 17/70\n",
      "38/38 - 0s - loss: 0.0895 - accuracy: 0.9681 - val_loss: 0.2699 - val_accuracy: 0.9264 - 320ms/epoch - 8ms/step\n",
      "Epoch 18/70\n",
      "38/38 - 0s - loss: 0.0867 - accuracy: 0.9715 - val_loss: 0.2894 - val_accuracy: 0.9365 - 328ms/epoch - 9ms/step\n",
      "Epoch 19/70\n",
      "38/38 - 0s - loss: 0.1184 - accuracy: 0.9648 - val_loss: 0.2861 - val_accuracy: 0.9465 - 378ms/epoch - 10ms/step\n",
      "Epoch 20/70\n",
      "38/38 - 0s - loss: 0.1150 - accuracy: 0.9648 - val_loss: 0.3032 - val_accuracy: 0.9431 - 360ms/epoch - 9ms/step\n",
      "Epoch 21/70\n",
      "38/38 - 0s - loss: 0.0779 - accuracy: 0.9749 - val_loss: 0.3556 - val_accuracy: 0.9365 - 326ms/epoch - 9ms/step\n",
      "Epoch 22/70\n",
      "38/38 - 0s - loss: 0.0695 - accuracy: 0.9740 - val_loss: 0.3299 - val_accuracy: 0.9365 - 327ms/epoch - 9ms/step\n",
      "Epoch 23/70\n",
      "38/38 - 0s - loss: 0.0807 - accuracy: 0.9740 - val_loss: 0.3284 - val_accuracy: 0.9298 - 340ms/epoch - 9ms/step\n",
      "Epoch 24/70\n",
      "38/38 - 0s - loss: 0.0602 - accuracy: 0.9824 - val_loss: 0.3234 - val_accuracy: 0.9398 - 330ms/epoch - 9ms/step\n",
      "Epoch 25/70\n",
      "38/38 - 0s - loss: 0.0779 - accuracy: 0.9790 - val_loss: 0.2945 - val_accuracy: 0.9532 - 333ms/epoch - 9ms/step\n",
      "Epoch 26/70\n",
      "38/38 - 0s - loss: 0.0886 - accuracy: 0.9698 - val_loss: 0.3188 - val_accuracy: 0.9431 - 340ms/epoch - 9ms/step\n",
      "Epoch 27/70\n",
      "38/38 - 0s - loss: 0.0686 - accuracy: 0.9749 - val_loss: 0.3345 - val_accuracy: 0.9465 - 351ms/epoch - 9ms/step\n",
      "Epoch 28/70\n",
      "38/38 - 0s - loss: 0.0637 - accuracy: 0.9774 - val_loss: 0.3456 - val_accuracy: 0.9431 - 332ms/epoch - 9ms/step\n",
      "Epoch 29/70\n",
      "38/38 - 0s - loss: 0.0663 - accuracy: 0.9790 - val_loss: 0.3029 - val_accuracy: 0.9532 - 336ms/epoch - 9ms/step\n",
      "Epoch 30/70\n",
      "38/38 - 0s - loss: 0.0535 - accuracy: 0.9816 - val_loss: 0.2680 - val_accuracy: 0.9599 - 348ms/epoch - 9ms/step\n",
      "Epoch 31/70\n",
      "38/38 - 0s - loss: 0.0702 - accuracy: 0.9807 - val_loss: 0.3584 - val_accuracy: 0.9465 - 411ms/epoch - 11ms/step\n",
      "Epoch 32/70\n",
      "38/38 - 0s - loss: 0.0443 - accuracy: 0.9866 - val_loss: 0.2699 - val_accuracy: 0.9699 - 332ms/epoch - 9ms/step\n",
      "Epoch 33/70\n",
      "38/38 - 0s - loss: 0.0981 - accuracy: 0.9782 - val_loss: 0.2973 - val_accuracy: 0.9398 - 332ms/epoch - 9ms/step\n",
      "Epoch 34/70\n",
      "38/38 - 0s - loss: 0.1326 - accuracy: 0.9765 - val_loss: 0.3630 - val_accuracy: 0.9398 - 331ms/epoch - 9ms/step\n",
      "Epoch 35/70\n",
      "38/38 - 0s - loss: 0.0601 - accuracy: 0.9749 - val_loss: 0.3473 - val_accuracy: 0.9632 - 344ms/epoch - 9ms/step\n",
      "Epoch 36/70\n",
      "38/38 - 0s - loss: 0.0618 - accuracy: 0.9816 - val_loss: 0.3633 - val_accuracy: 0.9565 - 341ms/epoch - 9ms/step\n",
      "Epoch 37/70\n",
      "38/38 - 0s - loss: 0.0604 - accuracy: 0.9816 - val_loss: 0.5641 - val_accuracy: 0.9465 - 338ms/epoch - 9ms/step\n",
      "Epoch 38/70\n",
      "38/38 - 0s - loss: 0.0718 - accuracy: 0.9799 - val_loss: 0.4162 - val_accuracy: 0.9498 - 324ms/epoch - 9ms/step\n",
      "Epoch 39/70\n",
      "38/38 - 0s - loss: 0.0413 - accuracy: 0.9824 - val_loss: 0.4097 - val_accuracy: 0.9565 - 341ms/epoch - 9ms/step\n",
      "Epoch 40/70\n",
      "38/38 - 0s - loss: 0.0348 - accuracy: 0.9883 - val_loss: 0.4074 - val_accuracy: 0.9498 - 348ms/epoch - 9ms/step\n",
      "Epoch 41/70\n",
      "38/38 - 0s - loss: 0.0290 - accuracy: 0.9891 - val_loss: 0.4738 - val_accuracy: 0.9532 - 320ms/epoch - 8ms/step\n",
      "Epoch 42/70\n",
      "38/38 - 0s - loss: 0.0230 - accuracy: 0.9925 - val_loss: 0.3851 - val_accuracy: 0.9565 - 322ms/epoch - 8ms/step\n",
      "Epoch 43/70\n",
      "38/38 - 0s - loss: 0.0236 - accuracy: 0.9925 - val_loss: 0.3938 - val_accuracy: 0.9632 - 328ms/epoch - 9ms/step\n",
      "Epoch 44/70\n",
      "38/38 - 0s - loss: 0.0218 - accuracy: 0.9933 - val_loss: 0.3707 - val_accuracy: 0.9666 - 341ms/epoch - 9ms/step\n",
      "Epoch 45/70\n",
      "38/38 - 0s - loss: 0.0191 - accuracy: 0.9908 - val_loss: 0.4357 - val_accuracy: 0.9532 - 338ms/epoch - 9ms/step\n",
      "Epoch 46/70\n",
      "38/38 - 0s - loss: 0.0437 - accuracy: 0.9883 - val_loss: 0.5014 - val_accuracy: 0.9532 - 334ms/epoch - 9ms/step\n",
      "Epoch 47/70\n",
      "38/38 - 0s - loss: 0.0648 - accuracy: 0.9824 - val_loss: 0.3718 - val_accuracy: 0.9799 - 338ms/epoch - 9ms/step\n",
      "Epoch 48/70\n",
      "38/38 - 0s - loss: 0.0849 - accuracy: 0.9832 - val_loss: 0.4538 - val_accuracy: 0.9498 - 445ms/epoch - 12ms/step\n",
      "Epoch 49/70\n",
      "38/38 - 0s - loss: 0.0495 - accuracy: 0.9765 - val_loss: 0.3291 - val_accuracy: 0.9732 - 391ms/epoch - 10ms/step\n",
      "Epoch 50/70\n",
      "38/38 - 0s - loss: 0.0579 - accuracy: 0.9799 - val_loss: 0.4652 - val_accuracy: 0.9431 - 384ms/epoch - 10ms/step\n",
      "Epoch 51/70\n",
      "38/38 - 0s - loss: 0.0403 - accuracy: 0.9849 - val_loss: 0.3514 - val_accuracy: 0.9565 - 336ms/epoch - 9ms/step\n",
      "Epoch 52/70\n",
      "38/38 - 0s - loss: 0.0199 - accuracy: 0.9941 - val_loss: 0.4889 - val_accuracy: 0.9532 - 354ms/epoch - 9ms/step\n",
      "Epoch 53/70\n",
      "38/38 - 0s - loss: 0.0244 - accuracy: 0.9908 - val_loss: 0.3930 - val_accuracy: 0.9699 - 331ms/epoch - 9ms/step\n",
      "Epoch 54/70\n",
      "38/38 - 0s - loss: 0.0699 - accuracy: 0.9916 - val_loss: 0.3683 - val_accuracy: 0.9465 - 348ms/epoch - 9ms/step\n",
      "Epoch 55/70\n",
      "38/38 - 0s - loss: 0.0518 - accuracy: 0.9858 - val_loss: 0.4530 - val_accuracy: 0.9565 - 358ms/epoch - 9ms/step\n",
      "Epoch 56/70\n",
      "38/38 - 0s - loss: 0.0514 - accuracy: 0.9866 - val_loss: 0.6368 - val_accuracy: 0.9498 - 355ms/epoch - 9ms/step\n",
      "Epoch 57/70\n",
      "38/38 - 0s - loss: 0.0694 - accuracy: 0.9807 - val_loss: 0.3719 - val_accuracy: 0.9699 - 338ms/epoch - 9ms/step\n",
      "Epoch 58/70\n",
      "38/38 - 0s - loss: 0.0666 - accuracy: 0.9799 - val_loss: 0.4237 - val_accuracy: 0.9666 - 355ms/epoch - 9ms/step\n",
      "Epoch 59/70\n",
      "38/38 - 0s - loss: 0.0568 - accuracy: 0.9858 - val_loss: 0.3830 - val_accuracy: 0.9799 - 366ms/epoch - 10ms/step\n",
      "Epoch 60/70\n",
      "38/38 - 0s - loss: 0.0180 - accuracy: 0.9933 - val_loss: 0.3908 - val_accuracy: 0.9632 - 338ms/epoch - 9ms/step\n",
      "Epoch 61/70\n",
      "38/38 - 0s - loss: 0.0419 - accuracy: 0.9866 - val_loss: 0.4056 - val_accuracy: 0.9632 - 399ms/epoch - 10ms/step\n",
      "Epoch 62/70\n",
      "38/38 - 0s - loss: 0.0259 - accuracy: 0.9933 - val_loss: 0.4740 - val_accuracy: 0.9732 - 340ms/epoch - 9ms/step\n",
      "Epoch 63/70\n",
      "38/38 - 0s - loss: 0.0234 - accuracy: 0.9916 - val_loss: 0.5045 - val_accuracy: 0.9799 - 350ms/epoch - 9ms/step\n",
      "Epoch 64/70\n",
      "38/38 - 0s - loss: 0.0316 - accuracy: 0.9941 - val_loss: 0.5438 - val_accuracy: 0.9632 - 338ms/epoch - 9ms/step\n",
      "Epoch 65/70\n",
      "38/38 - 0s - loss: 0.0498 - accuracy: 0.9899 - val_loss: 0.6422 - val_accuracy: 0.9465 - 324ms/epoch - 9ms/step\n",
      "Epoch 66/70\n",
      "38/38 - 0s - loss: 0.0712 - accuracy: 0.9832 - val_loss: 0.4890 - val_accuracy: 0.9498 - 323ms/epoch - 8ms/step\n",
      "Epoch 67/70\n",
      "38/38 - 0s - loss: 0.0354 - accuracy: 0.9891 - val_loss: 0.5399 - val_accuracy: 0.9532 - 355ms/epoch - 9ms/step\n",
      "Epoch 68/70\n",
      "38/38 - 0s - loss: 0.0296 - accuracy: 0.9908 - val_loss: 0.5074 - val_accuracy: 0.9632 - 353ms/epoch - 9ms/step\n",
      "Epoch 69/70\n",
      "38/38 - 0s - loss: 0.0285 - accuracy: 0.9925 - val_loss: 0.5057 - val_accuracy: 0.9732 - 336ms/epoch - 9ms/step\n",
      "Epoch 70/70\n",
      "38/38 - 0s - loss: 0.0255 - accuracy: 0.9925 - val_loss: 0.5552 - val_accuracy: 0.9565 - 334ms/epoch - 9ms/step\n"
     ]
    }
   ],
   "source": [
    "history = model.fit(X_train, y_train, validation_split=0.2, epochs=70, batch_size=32, verbose=2)"
   ]
  },
  {
   "cell_type": "code",
   "execution_count": 27,
   "id": "931c9fcb",
   "metadata": {
    "scrolled": true
   },
   "outputs": [
    {
     "name": "stdout",
     "output_type": "stream",
     "text": [
      "Test Accuracy: 96.719%\n"
     ]
    }
   ],
   "source": [
    "model_acc = model.evaluate(X_test, y_test, verbose=0)[1]\n",
    "print(\"Test Accuracy: {:.3f}%\".format(model_acc * 100))"
   ]
  },
  {
   "cell_type": "code",
   "execution_count": 28,
   "id": "a08b2ac0",
   "metadata": {
    "scrolled": true
   },
   "outputs": [
    {
     "name": "stderr",
     "output_type": "stream",
     "text": [
      "C:\\Users\\elyas\\anaconda33\\Lib\\site-packages\\keras\\src\\engine\\training.py:3079: UserWarning: You are saving your model as an HDF5 file via `model.save()`. This file format is considered legacy. We recommend using instead the native Keras format, e.g. `model.save('my_model.keras')`.\n",
      "  saving_api.save_model(\n"
     ]
    }
   ],
   "source": [
    "model.save('my_cnn_model.h5')"
   ]
  },
  {
   "cell_type": "code",
   "execution_count": 1,
   "id": "19bf8c7c",
   "metadata": {},
   "outputs": [
    {
     "name": "stdout",
     "output_type": "stream",
     "text": [
      "Model loaded successfully.\n",
      "Test Accuracy: 96.719%\n",
      "1/1 [==============================] - 0s 127ms/step\n",
      "{'sentiment': 1, 'eeg_data': [0.4338324766675109, 0.33896947569157654, 0.413316920434166, 0.6222413735957005, 0.8584952758218507]}\n"
     ]
    }
   ],
   "source": []
  },
  {
   "cell_type": "code",
   "execution_count": null,
   "id": "21d091f3",
   "metadata": {},
   "outputs": [],
   "source": []
  }
 ],
 "metadata": {
  "kernelspec": {
   "display_name": "Python 3 (ipykernel)",
   "language": "python",
   "name": "python3"
  },
  "language_info": {
   "codemirror_mode": {
    "name": "ipython",
    "version": 3
   },
   "file_extension": ".py",
   "mimetype": "text/x-python",
   "name": "python",
   "nbconvert_exporter": "python",
   "pygments_lexer": "ipython3",
   "version": "3.11.5"
  }
 },
 "nbformat": 4,
 "nbformat_minor": 5
}
